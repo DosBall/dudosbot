{
 "cells": [
  {
   "cell_type": "code",
   "execution_count": 16,
   "metadata": {},
   "outputs": [
    {
     "name": "stdout",
     "output_type": "stream",
     "text": [
      "Requirement already satisfied: pytelegrambotapi in c:\\users\\k_dos\\anaconda3\\lib\\site-packages (3.8.1)\n",
      "Requirement already satisfied: requests in c:\\users\\k_dos\\anaconda3\\lib\\site-packages (from pytelegrambotapi) (2.22.0)\n",
      "Requirement already satisfied: chardet<3.1.0,>=3.0.2 in c:\\users\\k_dos\\anaconda3\\lib\\site-packages (from requests->pytelegrambotapi) (3.0.4)\n",
      "Requirement already satisfied: urllib3!=1.25.0,!=1.25.1,<1.26,>=1.21.1 in c:\\users\\k_dos\\anaconda3\\lib\\site-packages (from requests->pytelegrambotapi) (1.24.2)\n",
      "Requirement already satisfied: certifi>=2017.4.17 in c:\\users\\k_dos\\anaconda3\\lib\\site-packages (from requests->pytelegrambotapi) (2021.10.8)\n",
      "Requirement already satisfied: idna<2.9,>=2.5 in c:\\users\\k_dos\\anaconda3\\lib\\site-packages (from requests->pytelegrambotapi) (2.8)\n",
      "Note: you may need to restart the kernel to use updated packages.\n"
     ]
    }
   ],
   "source": [
    "pip install pytelegrambotapi"
   ]
  },
  {
   "cell_type": "code",
   "execution_count": 17,
   "metadata": {},
   "outputs": [
    {
     "name": "stdout",
     "output_type": "stream",
     "text": [
      "Requirement already satisfied: telepot in c:\\users\\k_dos\\anaconda3\\lib\\site-packages (12.7)\n",
      "Requirement already satisfied: urllib3>=1.9.1 in c:\\users\\k_dos\\anaconda3\\lib\\site-packages (from telepot) (1.24.2)\n",
      "Requirement already satisfied: aiohttp>=3.0.0 in c:\\users\\k_dos\\anaconda3\\lib\\site-packages (from telepot) (3.8.1)\n",
      "Requirement already satisfied: frozenlist>=1.1.1 in c:\\users\\k_dos\\anaconda3\\lib\\site-packages (from aiohttp>=3.0.0->telepot) (1.3.0)\n",
      "Requirement already satisfied: asynctest==0.13.0; python_version < \"3.8\" in c:\\users\\k_dos\\anaconda3\\lib\\site-packages (from aiohttp>=3.0.0->telepot) (0.13.0)\n",
      "Requirement already satisfied: multidict<7.0,>=4.5 in c:\\users\\k_dos\\anaconda3\\lib\\site-packages (from aiohttp>=3.0.0->telepot) (5.1.0)\n",
      "Requirement already satisfied: aiosignal>=1.1.2 in c:\\users\\k_dos\\anaconda3\\lib\\site-packages (from aiohttp>=3.0.0->telepot) (1.2.0)\n",
      "Requirement already satisfied: yarl<2.0,>=1.0 in c:\\users\\k_dos\\anaconda3\\lib\\site-packages (from aiohttp>=3.0.0->telepot) (1.6.3)\n",
      "Requirement already satisfied: charset-normalizer<3.0,>=2.0 in c:\\users\\k_dos\\anaconda3\\lib\\site-packages (from aiohttp>=3.0.0->telepot) (2.0.11)\n",
      "Requirement already satisfied: typing-extensions>=3.7.4; python_version < \"3.8\" in c:\\users\\k_dos\\anaconda3\\lib\\site-packages (from aiohttp>=3.0.0->telepot) (3.10.0.2)\n",
      "Requirement already satisfied: async-timeout<5.0,>=4.0.0a3 in c:\\users\\k_dos\\anaconda3\\lib\\site-packages (from aiohttp>=3.0.0->telepot) (4.0.2)\n",
      "Requirement already satisfied: attrs>=17.3.0 in c:\\users\\k_dos\\anaconda3\\lib\\site-packages (from aiohttp>=3.0.0->telepot) (19.2.0)\n",
      "Requirement already satisfied: idna>=2.0 in c:\\users\\k_dos\\anaconda3\\lib\\site-packages (from yarl<2.0,>=1.0->aiohttp>=3.0.0->telepot) (2.8)\n",
      "Note: you may need to restart the kernel to use updated packages.\n"
     ]
    }
   ],
   "source": [
    "pip install telepot"
   ]
  },
  {
   "cell_type": "code",
   "execution_count": 18,
   "metadata": {},
   "outputs": [
    {
     "name": "stdout",
     "output_type": "stream",
     "text": [
      "Requirement already satisfied: Django==3.2.5 in c:\\users\\k_dos\\anaconda3\\lib\\site-packages (3.2.5)\n",
      "Requirement already satisfied: asgiref<4,>=3.3.2 in c:\\users\\k_dos\\anaconda3\\lib\\site-packages (from Django==3.2.5) (3.4.1)\n",
      "Requirement already satisfied: pytz in c:\\users\\k_dos\\anaconda3\\lib\\site-packages (from Django==3.2.5) (2019.3)\n",
      "Requirement already satisfied: sqlparse>=0.2.2 in c:\\users\\k_dos\\anaconda3\\lib\\site-packages (from Django==3.2.5) (0.4.1)\n",
      "Requirement already satisfied: typing-extensions; python_version < \"3.8\" in c:\\users\\k_dos\\anaconda3\\lib\\site-packages (from asgiref<4,>=3.3.2->Django==3.2.5) (3.10.0.2)\n",
      "Note: you may need to restart the kernel to use updated packages.\n"
     ]
    }
   ],
   "source": [
    "pip install Django==3.2.5"
   ]
  },
  {
   "cell_type": "code",
   "execution_count": 19,
   "metadata": {},
   "outputs": [
    {
     "name": "stdout",
     "output_type": "stream",
     "text": [
      "Requirement already up-to-date: aiogram in c:\\users\\k_dos\\anaconda3\\lib\\site-packages (2.18)\n",
      "Requirement already satisfied, skipping upgrade: aiohttp<3.9.0,>=3.8.0 in c:\\users\\k_dos\\anaconda3\\lib\\site-packages (from aiogram) (3.8.1)\n",
      "Requirement already satisfied, skipping upgrade: Babel<2.10.0,>=2.9.1 in c:\\users\\k_dos\\anaconda3\\lib\\site-packages (from aiogram) (2.9.1)\n",
      "Requirement already satisfied, skipping upgrade: certifi>=2021.10.8 in c:\\users\\k_dos\\anaconda3\\lib\\site-packages (from aiogram) (2021.10.8)\n",
      "Requirement already satisfied, skipping upgrade: aiosignal>=1.1.2 in c:\\users\\k_dos\\anaconda3\\lib\\site-packages (from aiohttp<3.9.0,>=3.8.0->aiogram) (1.2.0)\n",
      "Requirement already satisfied, skipping upgrade: yarl<2.0,>=1.0 in c:\\users\\k_dos\\anaconda3\\lib\\site-packages (from aiohttp<3.9.0,>=3.8.0->aiogram) (1.6.3)\n",
      "Requirement already satisfied, skipping upgrade: multidict<7.0,>=4.5 in c:\\users\\k_dos\\anaconda3\\lib\\site-packages (from aiohttp<3.9.0,>=3.8.0->aiogram) (5.1.0)\n",
      "Requirement already satisfied, skipping upgrade: asynctest==0.13.0; python_version < \"3.8\" in c:\\users\\k_dos\\anaconda3\\lib\\site-packages (from aiohttp<3.9.0,>=3.8.0->aiogram) (0.13.0)\n",
      "Requirement already satisfied, skipping upgrade: attrs>=17.3.0 in c:\\users\\k_dos\\anaconda3\\lib\\site-packages (from aiohttp<3.9.0,>=3.8.0->aiogram) (19.2.0)\n",
      "Requirement already satisfied, skipping upgrade: typing-extensions>=3.7.4; python_version < \"3.8\" in c:\\users\\k_dos\\anaconda3\\lib\\site-packages (from aiohttp<3.9.0,>=3.8.0->aiogram) (3.10.0.2)\n",
      "Requirement already satisfied, skipping upgrade: async-timeout<5.0,>=4.0.0a3 in c:\\users\\k_dos\\anaconda3\\lib\\site-packages (from aiohttp<3.9.0,>=3.8.0->aiogram) (4.0.2)\n",
      "Requirement already satisfied, skipping upgrade: frozenlist>=1.1.1 in c:\\users\\k_dos\\anaconda3\\lib\\site-packages (from aiohttp<3.9.0,>=3.8.0->aiogram) (1.3.0)\n",
      "Requirement already satisfied, skipping upgrade: charset-normalizer<3.0,>=2.0 in c:\\users\\k_dos\\anaconda3\\lib\\site-packages (from aiohttp<3.9.0,>=3.8.0->aiogram) (2.0.11)\n",
      "Requirement already satisfied, skipping upgrade: pytz>=2015.7 in c:\\users\\k_dos\\anaconda3\\lib\\site-packages (from Babel<2.10.0,>=2.9.1->aiogram) (2019.3)\n",
      "Requirement already satisfied, skipping upgrade: idna>=2.0 in c:\\users\\k_dos\\anaconda3\\lib\\site-packages (from yarl<2.0,>=1.0->aiohttp<3.9.0,>=3.8.0->aiogram) (2.8)\n",
      "Note: you may need to restart the kernel to use updated packages.\n"
     ]
    }
   ],
   "source": [
    "pip install -U aiogram"
   ]
  },
  {
   "cell_type": "code",
   "execution_count": 20,
   "metadata": {},
   "outputs": [
    {
     "name": "stdout",
     "output_type": "stream",
     "text": [
      "Requirement already satisfied: requests in c:\\users\\k_dos\\anaconda3\\lib\\site-packages (2.22.0)\n",
      "Requirement already satisfied: certifi>=2017.4.17 in c:\\users\\k_dos\\anaconda3\\lib\\site-packages (from requests) (2021.10.8)\n",
      "Requirement already satisfied: chardet<3.1.0,>=3.0.2 in c:\\users\\k_dos\\anaconda3\\lib\\site-packages (from requests) (3.0.4)\n",
      "Requirement already satisfied: urllib3!=1.25.0,!=1.25.1,<1.26,>=1.21.1 in c:\\users\\k_dos\\anaconda3\\lib\\site-packages (from requests) (1.24.2)\n",
      "Requirement already satisfied: idna<2.9,>=2.5 in c:\\users\\k_dos\\anaconda3\\lib\\site-packages (from requests) (2.8)\n",
      "Note: you may need to restart the kernel to use updated packages.\n"
     ]
    }
   ],
   "source": [
    "pip install requests"
   ]
  },
  {
   "cell_type": "code",
   "execution_count": 21,
   "metadata": {},
   "outputs": [
    {
     "name": "stdout",
     "output_type": "stream",
     "text": [
      "Requirement already satisfied: beautifulsoup4 in c:\\users\\k_dos\\anaconda3\\lib\\site-packages (4.8.0)\n",
      "Requirement already satisfied: soupsieve>=1.2 in c:\\users\\k_dos\\anaconda3\\lib\\site-packages (from beautifulsoup4) (1.9.3)\n",
      "Note: you may need to restart the kernel to use updated packages.\n"
     ]
    }
   ],
   "source": [
    "pip install beautifulsoup4"
   ]
  },
  {
   "cell_type": "code",
   "execution_count": 22,
   "metadata": {},
   "outputs": [
    {
     "data": {
      "text/plain": [
       "{'id': 1747442287,\n",
       " 'is_bot': True,\n",
       " 'first_name': 'DuDosBall',\n",
       " 'username': 'Du_Dos_Bot',\n",
       " 'can_join_groups': True,\n",
       " 'can_read_all_group_messages': False,\n",
       " 'supports_inline_queries': False}"
      ]
     },
     "execution_count": 22,
     "metadata": {},
     "output_type": "execute_result"
    }
   ],
   "source": [
    "import telepot\n",
    "#token = '1025277727:AAGKOX9qGF0mw_Cry--3ufdMQ3RGq50Qv3Y'\n",
    "token = '1747442287:AAEh8JsjfH_5VTKcc61ObPmH2WXJmh36FDY'\n",
    "channel_il = \"@Du_Dos_Ball\"\n",
    "bot1 = telepot.Bot(token)\n",
    "bot1.getMe()"
   ]
  },
  {
   "cell_type": "code",
   "execution_count": 23,
   "metadata": {},
   "outputs": [
    {
     "data": {
      "text/plain": [
       "[{'update_id': 616704976,\n",
       "  'message': {'message_id': 91,\n",
       "   'from': {'id': 797403772,\n",
       "    'is_bot': False,\n",
       "    'first_name': 'Dudos',\n",
       "    'last_name': '🗿',\n",
       "    'username': 'DosBall',\n",
       "    'language_code': 'ru'},\n",
       "   'chat': {'id': 797403772,\n",
       "    'first_name': 'Dudos',\n",
       "    'last_name': '🗿',\n",
       "    'username': 'DosBall',\n",
       "    'type': 'private'},\n",
       "   'date': 1643644201,\n",
       "   'text': 'алло'}},\n",
       " {'update_id': 616704977,\n",
       "  'message': {'message_id': 92,\n",
       "   'from': {'id': 797403772,\n",
       "    'is_bot': False,\n",
       "    'first_name': 'Dudos',\n",
       "    'last_name': '🗿',\n",
       "    'username': 'DosBall',\n",
       "    'language_code': 'ru'},\n",
       "   'chat': {'id': 797403772,\n",
       "    'first_name': 'Dudos',\n",
       "    'last_name': '🗿',\n",
       "    'username': 'DosBall',\n",
       "    'type': 'private'},\n",
       "   'date': 1643644445,\n",
       "   'text': 'привет'}}]"
      ]
     },
     "execution_count": 23,
     "metadata": {},
     "output_type": "execute_result"
    }
   ],
   "source": [
    "bot1.getUpdates()"
   ]
  },
  {
   "cell_type": "code",
   "execution_count": null,
   "metadata": {},
   "outputs": [],
   "source": [
    "import time\n",
    "#import eventlet\n",
    "import requests\n",
    "import logging\n",
    "from time import sleep\n",
    "import telepot\n",
    "import config\n",
    "import telebot\n",
    "import random\n",
    "from telebot import types\n",
    "token = '1747442287:AAEh8JsjfH_5VTKcc61ObPmH2WXJmh36FDY'\n",
    "vktoken = '3e9c2b3019a8c2de6cdfe2681c75d8817b9ccc5b45465d3e1ca1647e4b7daee9c081e347db2954ceafdde'\n",
    "URL_VK = 'https://api.vk.com/method/wall.get?domain=du_dos_bot_group&count=10&filter=owner&access_token=3e9c2b3019a8c2de6cdfe2681c75d8817b9ccc5b45465d3e1ca1647e4b7daee9c081e347db2954ceafdde&v=5.131'\n",
    "FILENAME_VK = 'lastid.txt'\n",
    "BASE_POST_URL = 'https://vk.com/du_dos_bot_group?w=wall-205952707_'\n",
    "CHANNEL_NAME = '@Du_Dos_Bot'\n",
    "\n",
    "bot = telebot.TeleBot(token)\n",
    "\n",
    "@bot.message_handler(commands=['start'])\n",
    "def welcome(message):\n",
    "    stiker = open('stiksas.webp', 'rb')\n",
    "    bot.send_sticker(message.chat.id, stiker)\n",
    "    \n",
    "    markup = types.ReplyKeyboardMarkup(resize_keyboard=True)\n",
    "    item1 = types.KeyboardButton(\"🎲 Рандомное число от 1 до 100\")\n",
    "    item2 = types.KeyboardButton(\"Как дела? 😊\")\n",
    " \n",
    "    markup.add(item1, item2)\n",
    " \n",
    "    bot.send_message(message.chat.id, \"Добро пожаловать, {0.first_name}!\\nЯ - <b>{1.first_name}</b>, бот созданный чтобы быть подопытным кроликом.\".format(message.from_user, bot.get_me()),\n",
    "        parse_mode='html', reply_markup=markup)"
   ]
  },
  {
   "cell_type": "code",
   "execution_count": null,
   "metadata": {},
   "outputs": [],
   "source": [
    "@bot.message_handler(content_types=['text'])\n",
    "def lalala(message):\n",
    "    if message.chat.type == 'private':\n",
    "        if message.text == '🎲 Рандомное число от 1 до 100':\n",
    "            bot.send_message(message.chat.id, str(random.randint(0,100)))\n",
    "        elif message.text == 'Как дела? 😊':\n",
    " \n",
    "            markup = types.InlineKeyboardMarkup(row_width=2)\n",
    "            item1 = types.InlineKeyboardButton(\"Хорошо\", callback_data='good')\n",
    "            item2 = types.InlineKeyboardButton(\"Не очень\", callback_data='bad')\n",
    " \n",
    "            markup.add(item1, item2)\n",
    " \n",
    "            bot.send_message(message.chat.id, 'Отлично, сам как?', reply_markup=markup)\n",
    "        else:\n",
    "            bot.send_message(message.chat.id, 'Я не знаю что ответить')\n",
    " "
   ]
  },
  {
   "cell_type": "code",
   "execution_count": null,
   "metadata": {},
   "outputs": [],
   "source": [
    "@bot.callback_query_handler(func=lambda call: True)\n",
    "def callback_inline(call):\n",
    "    try:\n",
    "        if call.message:\n",
    "            if call.data == 'good':\n",
    "                bot.send_message(call.message.chat.id, 'Супер😊')\n",
    "            elif call.data == 'bad':\n",
    "                bot.send_message(call.message.chat.id, 'Бывает 😢')\n",
    " \n",
    "            bot.edit_message_text(chat_id=call.message.chat.id, message_id=call.message.message_id, text=\"Как дела?\",\n",
    "                reply_markup=None)\n",
    " \n",
    "    except Exception as e:\n",
    "        print(repr(e))"
   ]
  },
  {
   "cell_type": "code",
   "execution_count": null,
   "metadata": {},
   "outputs": [],
   "source": [
    "'''import time\n",
    "#import eventlet\n",
    "import requests\n",
    "import logging\n",
    "import telebot\n",
    "from time import sleep\n",
    "\n",
    "URL_VK = 'https://api.vk.com/method/wall.get?domain=du_dos_bot_group&count=10&filter=owner&access_token=Ваш_токен_VK&v=5.68'\n",
    "FILENAME_VK = 'last_known_id.txt'\n",
    "BASE_POST_URL = 'https://vk.com/wall-22822305_'\n",
    "\n",
    "BOT_TOKEN = 'токен бота, постящего в канал'\n",
    "CHANNEL_NAME = '@канал'\n",
    "\n",
    "bot = telebot.TeleBot(BOT_TOKEN)'''"
   ]
  },
  {
   "cell_type": "code",
   "execution_count": null,
   "metadata": {},
   "outputs": [],
   "source": [
    "@bot.message_handler(commands=['start'])\n",
    "def get_data():\n",
    "    timeout = eventlet.Timeout(10)\n",
    "    try:\n",
    "        feed = requests.get(URL_VK)\n",
    "        return feed.json()\n",
    "    except eventlet.timeout.Timeout:\n",
    "        logging.warning('Got Timeout while retrieving VK JSON data. Cancelling...')\n",
    "        return None\n",
    "    finally:\n",
    "        timeout.cancel()\n",
    "def send_new_posts(items, last_id):\n",
    "    for item in items:\n",
    "        if item['id'] <= last_id:\n",
    "            break\n",
    "        link = '{!s}{!s}'.format(BASE_POST_URL, item['id'])\n",
    "        bot.send_message(CHANNEL_NAME, link)\n",
    "        time.sleep(1)\n",
    "    return\n"
   ]
  },
  {
   "cell_type": "code",
   "execution_count": null,
   "metadata": {},
   "outputs": [],
   "source": [
    "def check_new_posts_vk():\n",
    "    logging.info('[VK] Started scanning for new posts')\n",
    "    with open(FILENAME_VK, 'rt') as file:\n",
    "        last_id = int(file.read())\n",
    "        if last_id is None:\n",
    "            logging.error('Could not read from storage. Skipped iteration.')\n",
    "            return\n",
    "        logging.info('Last ID (VK) = {!s}'.format(last_id))\n",
    "    try:\n",
    "        feed = get_data()\n",
    "        if feed is not None:\n",
    "            entries = feed['response'][1:]\n",
    "            try:\n",
    "                # Если пост был закреплен, пропускаем его\n",
    "                tmp = entries[0]['is_pinned']\n",
    "                send_new_posts(entries[1:], last_id)\n",
    "            except KeyError:\n",
    "                send_new_posts(entries, last_id)\n",
    "            with open(FILENAME_VK, 'wt') as file:\n",
    "                try:\n",
    "                    tmp = entries[0]['is_pinned']\n",
    "                    # Если первый пост - закрепленный, то сохраняем ID второго\n",
    "                    file.write(str(entries[1]['id']))\n",
    "                    logging.info('New last_id (VK) is {!s}'.format((entries[1]['id'])))\n",
    "                except KeyError:\n",
    "                    file.write(str(entries[0]['id']))\n",
    "                    logging.info('New last_id (VK) is {!s}'.format((entries[0]['id'])))\n",
    "    except Exception as ex:\n",
    "        logging.error('Exception of type {!s} in check_new_post(): {!s}'.format(type(ex).__name__, str(ex)))\n",
    "        pass\n",
    "    logging.info('[VK] Finished scanning')\n",
    "    return"
   ]
  },
  {
   "cell_type": "code",
   "execution_count": null,
   "metadata": {},
   "outputs": [],
   "source": [
    "if __name__ == '__main__':\n",
    "    logging.getLogger('requests').setLevel(logging.CRITICAL)\n",
    "    logging.basicConfig(format='[%(asctime)s] %(filename)s:%(lineno)d %(levelname)s - %(message)s', level=logging.INFO,\n",
    "                        filename='bot_log.log', datefmt='%d.%m.%Y %H:%M:%S')\n",
    "    \n",
    "    while True:\n",
    "        check_new_posts_vk()\n",
    "        logging.info('[App] Script went to sleep.')\n",
    "        time.sleep(30)\n"
   ]
  },
  {
   "cell_type": "code",
   "execution_count": null,
   "metadata": {},
   "outputs": [],
   "source": [
    "bot.polling(none_stop=True)"
   ]
  },
  {
   "cell_type": "code",
   "execution_count": null,
   "metadata": {},
   "outputs": [],
   "source": []
  }
 ],
 "metadata": {
  "kernelspec": {
   "display_name": "Python 3",
   "language": "python",
   "name": "python3"
  },
  "language_info": {
   "codemirror_mode": {
    "name": "ipython",
    "version": 3
   },
   "file_extension": ".py",
   "mimetype": "text/x-python",
   "name": "python",
   "nbconvert_exporter": "python",
   "pygments_lexer": "ipython3",
   "version": "3.7.4"
  }
 },
 "nbformat": 4,
 "nbformat_minor": 2
}
